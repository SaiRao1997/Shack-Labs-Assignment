{
 "cells": [
  {
   "cell_type": "markdown",
   "id": "fe4700cc",
   "metadata": {},
   "source": [
    "### Here first i am creating a new database for the products and only those values are being stored that needs to be shown in a new data frame\n",
    "### Then they are compared with the help of fuzzy ratio and if the ratio of the matches from the database then from either of the flipkart or amazon then it is guaranteed to show up the result. Even if the match is not 100 % it will show the maximum math from the database"
   ]
  },
  {
   "cell_type": "code",
   "execution_count": 1,
   "id": "03734824",
   "metadata": {},
   "outputs": [],
   "source": [
    "import pandas as pd\n",
    "import numpy as np\n",
    "from fuzzywuzzy import fuzz\n",
    "from fuzzywuzzy import process\n",
    "from IPython.display import display, HTML"
   ]
  },
  {
   "cell_type": "code",
   "execution_count": 2,
   "id": "655be5a4",
   "metadata": {},
   "outputs": [],
   "source": [
    "df1=pd.read_excel('amz_com-ecommerce_sample.xlsx')\n",
    "df2=pd.read_excel('flipkart_com-ecommerce_sample.xlsx')"
   ]
  },
  {
   "cell_type": "code",
   "execution_count": 3,
   "id": "9340a1b3",
   "metadata": {},
   "outputs": [
    {
     "data": {
      "text/plain": [
       "(True,\n",
       " uniq_id                      0\n",
       " crawl_timestamp              0\n",
       " product_url                  0\n",
       " product_name                 0\n",
       " product_category_tree        0\n",
       "                          ...  \n",
       " Unnamed: 100             19999\n",
       " Unnamed: 101             19999\n",
       " Unnamed: 102             19999\n",
       " Unnamed: 103             19999\n",
       " Unnamed: 104             19999\n",
       " Length: 105, dtype: int64)"
      ]
     },
     "execution_count": 3,
     "metadata": {},
     "output_type": "execute_result"
    }
   ],
   "source": [
    "df1.isnull().values.any(), df1.isnull().sum()"
   ]
  },
  {
   "cell_type": "code",
   "execution_count": 4,
   "id": "2ac053a1",
   "metadata": {},
   "outputs": [
    {
     "data": {
      "text/plain": [
       "True"
      ]
     },
     "execution_count": 4,
     "metadata": {},
     "output_type": "execute_result"
    }
   ],
   "source": [
    "df2.isnull().values.any()"
   ]
  },
  {
   "cell_type": "code",
   "execution_count": 5,
   "id": "0914ccf8",
   "metadata": {},
   "outputs": [],
   "source": [
    "df1.rename(columns = {'retail_price':'retail_price_amz'}, inplace = True)\n",
    "df2.rename(columns = {'retail_price':'retail_price_flipkart'}, inplace = True)\n",
    "df1.rename(columns = {'discounted_price':'discounted_price_amz'}, inplace = True)\n",
    "df2.rename(columns = {'discounted_price':'discounted_price_flipkart'}, inplace = True)"
   ]
  },
  {
   "cell_type": "code",
   "execution_count": 6,
   "id": "1f89412a",
   "metadata": {},
   "outputs": [],
   "source": [
    "df_new=pd.DataFrame(columns=['Product name in Flipkart','Retail Price in Flipkart', 'Discounted Price in Flipkart','Product name in Amazon','Retail Price in Amazon','Discounted Price in Amazon'])"
   ]
  },
  {
   "cell_type": "code",
   "execution_count": 7,
   "id": "074c2a43",
   "metadata": {},
   "outputs": [],
   "source": [
    "df_new['Retail Price in Flipkart']=df2['retail_price_flipkart']\n",
    "df_new['Retail Price in Amazon']=df1['retail_price_amz']\n",
    "df_new['Product name in Flipkart'] = np.where(df1['product_name'].str.lower() == df2['product_name'].str.lower(), df2['product_name'], df2['product_name'])\n",
    "df_new['Product name in Amazon'] = np.where(df1['product_name'].str.lower() == df2['product_name'].str.lower(), df1['product_name'], df1['product_name'])\n",
    "df_new['Discounted Price in Flipkart']=df2['discounted_price_flipkart']\n",
    "df_new['Discounted Price in Amazon']=df1['discounted_price_amz']"
   ]
  },
  {
   "cell_type": "code",
   "execution_count": 8,
   "id": "3ad9c576",
   "metadata": {},
   "outputs": [
    {
     "data": {
      "text/plain": [
       "(Product name in Flipkart         0\n",
       " Retail Price in Flipkart        78\n",
       " Discounted Price in Flipkart    78\n",
       " Product name in Amazon           0\n",
       " Retail Price in Amazon           0\n",
       " Discounted Price in Amazon       0\n",
       " dtype: int64,\n",
       " Product name in Flipkart         object\n",
       " Retail Price in Flipkart         object\n",
       " Discounted Price in Flipkart    float64\n",
       " Product name in Amazon           object\n",
       " Retail Price in Amazon           object\n",
       " Discounted Price in Amazon        int64\n",
       " dtype: object)"
      ]
     },
     "execution_count": 8,
     "metadata": {},
     "output_type": "execute_result"
    }
   ],
   "source": [
    "df_new.isnull().sum(), df_new.dtypes"
   ]
  },
  {
   "cell_type": "code",
   "execution_count": 9,
   "id": "824237de",
   "metadata": {},
   "outputs": [
    {
     "name": "stdout",
     "output_type": "stream",
     "text": [
      "Enter the product name to show the products: Shorts\n"
     ]
    }
   ],
   "source": [
    "product=input(\"Enter the product name to show the products: \")"
   ]
  },
  {
   "cell_type": "code",
   "execution_count": 10,
   "id": "78e44b6d",
   "metadata": {},
   "outputs": [],
   "source": [
    "ratio_flipkart=[]\n",
    "ratio_amazon=[]\n",
    "for i in range(len(df_new)):\n",
    "#     print(i)\n",
    "    ratio_flip=fuzz.partial_ratio(product,str(df_new['Product name in Flipkart'][i]))\n",
    "    ratio_amaz=fuzz.partial_ratio(product,str(df_new['Product name in Amazon'][i]))\n",
    "    ratio_flipkart.append(ratio_flip)\n",
    "    ratio_amazon.append(ratio_amaz)"
   ]
  },
  {
   "cell_type": "code",
   "execution_count": 11,
   "id": "eafdf14a",
   "metadata": {},
   "outputs": [
    {
     "name": "stdout",
     "output_type": "stream",
     "text": [
      "Alisha Solid Women's Cycling Shorts Alisha Solid Women's Cycling Shorts\n"
     ]
    }
   ],
   "source": [
    "ratio_flipkart_index=ratio_flipkart.index(max(ratio_flipkart))\n",
    "nameinflipkart=df_new['Product name in Flipkart'][ratio_flipkart.index(max(ratio_flipkart))]\n",
    "ratio_amazon_index=ratio_amazon.index(max(ratio_amazon))\n",
    "nameinamazon=df_new['Product name in Amazon'][ratio_amazon_index]\n",
    "print(nameinflipkart,nameinamazon)"
   ]
  },
  {
   "cell_type": "code",
   "execution_count": 12,
   "id": "e3dbd9cc",
   "metadata": {},
   "outputs": [
    {
     "data": {
      "text/html": [
       "<table border=\"1\" class=\"dataframe\">\n",
       "  <thead>\n",
       "    <tr style=\"text-align: right;\">\n",
       "      <th>Product name in Flipkart</th>\n",
       "      <th>Retail Price in Flipkart</th>\n",
       "      <th>Discounted Price in Flipkart</th>\n",
       "      <th>Product name in Amazon</th>\n",
       "      <th>Retail Price in Amazon</th>\n",
       "      <th>Discounted Price in Amazon</th>\n",
       "    </tr>\n",
       "  </thead>\n",
       "  <tbody>\n",
       "    <tr>\n",
       "      <td>Alisha Solid Women's Cycling Shorts</td>\n",
       "      <td>999</td>\n",
       "      <td>379.0</td>\n",
       "      <td>Alisha Solid Women's Cycling Shorts</td>\n",
       "      <td>982</td>\n",
       "      <td>438</td>\n",
       "    </tr>\n",
       "  </tbody>\n",
       "</table>"
      ],
      "text/plain": [
       "<IPython.core.display.HTML object>"
      ]
     },
     "metadata": {},
     "output_type": "display_data"
    }
   ],
   "source": [
    "if ratio_flipkart_index<ratio_amazon_index:\n",
    "    display(HTML(df_new.loc[[ratio_flipkart_index]].to_html(index=False)))\n",
    "else:\n",
    "    display(HTML(df_new.loc[[ratio_amazon_index]].to_html(index=False)))"
   ]
  }
 ],
 "metadata": {
  "kernelspec": {
   "display_name": "Python 3 (ipykernel)",
   "language": "python",
   "name": "python3"
  },
  "language_info": {
   "codemirror_mode": {
    "name": "ipython",
    "version": 3
   },
   "file_extension": ".py",
   "mimetype": "text/x-python",
   "name": "python",
   "nbconvert_exporter": "python",
   "pygments_lexer": "ipython3",
   "version": "3.9.12"
  }
 },
 "nbformat": 4,
 "nbformat_minor": 5
}
